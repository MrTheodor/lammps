{
 "cells": [
  {
   "cell_type": "markdown",
   "metadata": {},
   "source": [
    "# Veryfication of the implemented LJ 12-6-4 potential\n",
    "\n"
   ]
  },
  {
   "cell_type": "code",
   "execution_count": 20,
   "metadata": {},
   "outputs": [],
   "source": [
    "import numpy as np\n",
    "from matplotlib import pyplot as plt\n",
    "import seaborn"
   ]
  },
  {
   "cell_type": "code",
   "execution_count": 132,
   "metadata": {},
   "outputs": [],
   "source": [
    "def lj126(x: float) -> float:\n",
    "    eps, sig = 1.0, 1.0\n",
    "    return 4*eps*(pow(sig/x, 12) - pow(sig/x, 6))\n",
    "\n",
    "def force_lj126(x: float) -> float:\n",
    "    eps, sig = 1.0, 1.0\n",
    "    return 48*eps*pow(sig/x, 13) - 24*eps*pow(sig/x, 7)\n",
    "\n",
    "def lj1264(x: float) -> float:\n",
    "    eps, sig, c = 1.0, 1.0, 1.0\n",
    "    return 4*eps*(pow(sig/x, 12) - pow(sig/x, 6)) - c/pow(x, 4.0)\n",
    "\n",
    "def force_lj1264(x: float) -> float:\n",
    "    eps, sig, c = 1.0, 1.0, 1.0\n",
    "    return 48*eps*pow(sig/x, 13) - 24*eps*pow(sig/x, 7) + 4*c/pow(x, 5.0)"
   ]
  },
  {
   "cell_type": "code",
   "execution_count": 112,
   "metadata": {},
   "outputs": [],
   "source": [
    "def readdataframe(input_file):\n",
    "    current_item, value = None, None\n",
    "    skip_items = ['BOX BOUNDS pp pp pp', 'NUMBER OF ENTRIES']\n",
    "    data = []\n",
    "    for line in open(input_file, 'r'):\n",
    "        if 'ITEM' in line:\n",
    "            current_item = line.replace('ITEM: ', '').replace('\\n', '')\n",
    "            continue\n",
    "        if current_item in skip_items:\n",
    "            continue\n",
    "        if 'ENTRIES' in current_item:\n",
    "            ls = line.replace('\\n', '').strip().split(' ')[1:]\n",
    "            data.append(list(map(float, ls)))\n",
    "    return data"
   ]
  },
  {
   "cell_type": "code",
   "execution_count": 113,
   "metadata": {},
   "outputs": [],
   "source": [
    "data_lj126 = np.array(readdataframe('data_lj126.dump'))\n",
    "data_lj1264 = np.array(readdataframe('data_lj1264.dump'))"
   ]
  },
  {
   "cell_type": "code",
   "execution_count": 136,
   "metadata": {},
   "outputs": [
    {
     "data": {
      "text/plain": [
       "<matplotlib.legend.Legend at 0x7f62ef55c820>"
      ]
     },
     "execution_count": 136,
     "metadata": {},
     "output_type": "execute_result"
    },
    {
     "data": {
      "image/png": "[encoded data removed]",
      "text/plain": [
       "<Figure size 432x288 with 1 Axes>"
      ]
     },
     "metadata": {
      "needs_background": "light"
     },
     "output_type": "display_data"
    }
   ],
   "source": [
    "plt.ylim([-3, 3])\n",
    "plt.plot(data_lj126[:, 0], data_lj126[:, 1], label='12-6 sim')\n",
    "plt.plot(data_lj1264[:, 0], data_lj1264[:, 1], label='12-6-4 sim')\n",
    "plt.plot(data_lj1264[:, 0], lj1264(data_lj1264[:, 0]), label='12-6-4 theory', marker='x', markevery=100)\n",
    "plt.plot(data_lj126[:, 0], lj126(data_lj126[:, 0]), label='12-6 theory', marker='x', markevery=100)\n",
    "plt.xlabel('x')\n",
    "plt.title('Energy')\n",
    "plt.legend(loc=0)"
   ]
  }
 ],
 "metadata": {
  "kernelspec": {
   "display_name": "Python 3",
   "language": "python",
   "name": "python3"
  },
  "language_info": {
   "codemirror_mode": {
    "name": "ipython",
    "version": 3
   },
   "file_extension": ".py",
   "mimetype": "text/x-python",
   "name": "python",
   "nbconvert_exporter": "python",
   "pygments_lexer": "ipython3",
   "version": "3.8.2"
  }
 },
 "nbformat": 4,
 "nbformat_minor": 4
}
